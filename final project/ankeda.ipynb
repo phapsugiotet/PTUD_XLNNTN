{
 "cells": [
  {
   "cell_type": "code",
   "execution_count": 11,
   "metadata": {},
   "outputs": [],
   "source": [
    "import re\n",
    "import os\n",
    "MEMORY_LEN = 5000"
   ]
  },
  {
   "cell_type": "code",
   "execution_count": 16,
   "metadata": {},
   "outputs": [],
   "source": [
    "if os.path.exists(\"dota.txt\") and os.path.exists(\"hata.txt\"):\n",
    "    file1 = open(\"hata.txt\", \"r+\", encoding=\"utf-16\")\n",
    "    file2 = open(\"dota.txt\", \"r+\", encoding=\"utf-16\")\n",
    "    text_Z = file2.read() + \" \" + re.sub('\\s+', ' ', re.sub('\\W', ' ', file1.read()))\n",
    "    if len(text_Z) > MEMORY_LEN:\n",
    "        text_Z = text_Z[-MEMORY_LEN:].split(\" \", 1)[1]\n",
    "    file1.truncate(0)\n",
    "    file2.truncate(0)\n",
    "    file2.write(text_Z)\n",
    "    file1.close()\n",
    "    file2.close()\n",
    "    text_db = text_Z\n",
    "elif not os.path.exists(\"dota.txt\") and os.path.exists(\"hata.txt\"):\n",
    "    file1 = open(\"hata.txt\", \"r+\", encoding=\"utf-16\")\n",
    "    file2 = open(\"dota.txt\", \"r+\", encoding=\"utf-16\")\n",
    "    text_Z = re.sub('\\s+', ' ', re.sub('\\W', ' ', file1.read()))\n",
    "    if len(text_Z) > MEMORY_LEN:\n",
    "        text_Z = text_Z[-MEMORY_LEN:].split(\" \", 1)[1]\n",
    "    file1.truncate(0)\n",
    "    file2.truncate(0)\n",
    "    file2.write(text_Z)\n",
    "    file1.close()\n",
    "    file2.close()\n",
    "    text_db = text_Z\n",
    "elif os.path.exists(\"dota.txt\") and not os.path.exists(\"hata.txt\"):\n",
    "    file1 = open(\"dota.txt\", \"r\", encoding=\"utf-16\")\n",
    "    text_db = file1.read()\n",
    "    file1.close()\n",
    "elif not os.path.exists(\"dota.txt\") and not os.path.exists(\"hata.txt\"):\n",
    "    file1 = open(\"dota.txt\", \"w+\", encoding=\"utf-16\")\n",
    "    file1.write(\"đây là sảng phẩm của Nguyễn Hoàng Nam Và Lê Khắc Chiến\")\n",
    "    file1.close()\n",
    "    text_db = \"đây là sảng phẩm của Nguyễn Hoàng Nam Và Lê Khắc Chiến \""
   ]
  },
  {
   "cell_type": "code",
   "execution_count": 88,
   "metadata": {},
   "outputs": [],
   "source": [
    "file = open(\"hata.txt\", \"w\", encoding=\"utf-16\")\n",
    "file.write(\"đây là sảng phẩm của Nguyễn Hoàng Nam Và Lê Khắc Chiến \")\n",
    "file.close()"
   ]
  },
  {
   "cell_type": "code",
   "execution_count": 92,
   "metadata": {},
   "outputs": [
    {
     "name": "stdout",
     "output_type": "stream",
     "text": [
      "text_Zà sảng phẩm của Nguyễn Hoàng Nam Và Lê Khắc Chiến \n"
     ]
    }
   ],
   "source": [
    "file2 = open(\"dota.txt\", \"r+\", encoding=\"utf-16\")\n",
    "print(file2.read())\n",
    "file2.seek(5)\n",
    "file2.write(\"text_Z\")\n",
    "file2.close()"
   ]
  },
  {
   "cell_type": "code",
   "execution_count": null,
   "metadata": {},
   "outputs": [],
   "source": []
  },
  {
   "cell_type": "code",
   "execution_count": 89,
   "metadata": {},
   "outputs": [
    {
     "name": "stdout",
     "output_type": "stream",
     "text": [
      " đây là sảng phẩm của Nguyễn Hoàng Nam Và Lê Khắc Chiến \n"
     ]
    }
   ],
   "source": [
    "file1 = open(\"hata.txt\", \"r+\", encoding=\"utf-16\")\n",
    "file2 = open(\"dota.txt\", \"r\", encoding=\"utf-16\")\n",
    "text_Z = file2.read() + \" \" + re.sub('\\s+', ' ', re.sub('\\W', ' ', file1.read()))\n",
    "if len(text_Z) > MEMORY_LEN:\n",
    "        text_Z = text_Z[-MEMORY_LEN:].split(\" \", 1)[1]\n",
    "print(text_Z)\n",
    "file1.truncate(0)\n",
    "file2.close()\n",
    "file2.write(str(text_Z))\n",
    "file1.close()\n",
    "file2.close()"
   ]
  }
 ],
 "metadata": {
  "kernelspec": {
   "display_name": "Python 3",
   "language": "python",
   "name": "python3"
  },
  "language_info": {
   "codemirror_mode": {
    "name": "ipython",
    "version": 3
   },
   "file_extension": ".py",
   "mimetype": "text/x-python",
   "name": "python",
   "nbconvert_exporter": "python",
   "pygments_lexer": "ipython3",
   "version": "3.6.7"
  }
 },
 "nbformat": 4,
 "nbformat_minor": 1
}
